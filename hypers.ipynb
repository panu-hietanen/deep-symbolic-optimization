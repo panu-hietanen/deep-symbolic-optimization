{
 "cells": [
  {
   "cell_type": "code",
   "id": "initial_id",
   "metadata": {
    "collapsed": true,
    "ExecuteTime": {
     "end_time": "2025-02-26T10:34:23.815485Z",
     "start_time": "2025-02-26T10:34:23.810424Z"
    }
   },
   "source": [
    "from dso import DeepSymbolicOptimizer\n",
    "import pandas as pd"
   ],
   "outputs": [],
   "execution_count": 3
  },
  {
   "metadata": {
    "ExecuteTime": {
     "end_time": "2025-02-26T10:34:05.005024Z",
     "start_time": "2025-02-26T10:34:05.003137Z"
    }
   },
   "cell_type": "code",
   "source": "",
   "id": "4d79afea257b287e",
   "outputs": [],
   "execution_count": null
  },
  {
   "metadata": {
    "ExecuteTime": {
     "end_time": "2025-02-26T10:34:05.057056Z",
     "start_time": "2025-02-26T10:34:05.054243Z"
    }
   },
   "cell_type": "code",
   "source": "",
   "id": "c79581d8ced6b70",
   "outputs": [],
   "execution_count": null
  }
 ],
 "metadata": {
  "kernelspec": {
   "display_name": "Python 3",
   "language": "python",
   "name": "python3"
  },
  "language_info": {
   "codemirror_mode": {
    "name": "ipython",
    "version": 2
   },
   "file_extension": ".py",
   "mimetype": "text/x-python",
   "name": "python",
   "nbconvert_exporter": "python",
   "pygments_lexer": "ipython2",
   "version": "2.7.6"
  }
 },
 "nbformat": 4,
 "nbformat_minor": 5
}
